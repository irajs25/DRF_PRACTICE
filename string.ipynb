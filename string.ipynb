{
  "nbformat": 4,
  "nbformat_minor": 0,
  "metadata": {
    "colab": {
      "name": "string.ipynb",
      "provenance": [],
      "toc_visible": true,
      "collapsed_sections": [],
      "authorship_tag": "ABX9TyMMOW1A3z/8L3nSoClZD8oX",
      "include_colab_link": true
    },
    "kernelspec": {
      "name": "python3",
      "display_name": "Python 3"
    },
    "language_info": {
      "name": "python"
    }
  },
  "cells": [
    {
      "cell_type": "markdown",
      "metadata": {
        "id": "view-in-github",
        "colab_type": "text"
      },
      "source": [
        "<a href=\"https://colab.research.google.com/github/irajs25/DRF_PRACTICE/blob/main/string.ipynb\" target=\"_parent\"><img src=\"https://colab.research.google.com/assets/colab-badge.svg\" alt=\"Open In Colab\"/></a>"
      ]
    },
    {
      "cell_type": "markdown",
      "source": [
        "#Strings\n",
        "Strings in python are surrounded by either single quotation marks, or double quotation marks."
      ],
      "metadata": {
        "id": "uiQiQVpIAggn"
      }
    },
    {
      "cell_type": "code",
      "source": [
        "greetings = \"Hello\"\n",
        "name      = \"Raj\"\n",
        "#string formatting\n",
        "mssg_0    = greetings + \" \" + name\n",
        "mssg_1    = '%s %s' %(greetings,  name) \n",
        "mssg_2    = '{} {}'.format(greetings, name)\n",
        "#Recommended string formatted\n",
        "mssg_3    = f'{greetings} {name}!'\n",
        "# print(mssg_1)\n",
        "# print(mssg_2)\n",
        "# print(mssg_3)\n",
        "a = 5\n",
        "# Multiline comments\n",
        "print(name.__class__)\n",
        "\n",
        "#Methods and attributes of string class\n",
        "#['__add__', '__class__', '__contains__', '__delattr__', '__dir__', '__doc__', '__eq__', '__format__', '__ge__', \n",
        "#   '__getattribute__', '__getitem__', '__getnewargs__', '__gt__', '__hash__', '__init__', '__init_subclass__',\n",
        "#   '__iter__', '__le__', '__len__', '__lt__', '__mod__', '__mul__', '__ne__', \n",
        "#   '__new__', '__reduce__', '__reduce_ex__', '__repr__', '__rmod__', '__rmul__', '__setattr__', '__sizeof__', '__str__', '__subclasshook__', \n",
        "#  'capitalize', 'casefold', 'center', 'count', 'encode', 'endswith', 'expandtabs', 'find', 'format', \n",
        "#  'format_map', 'index', 'isalnum', 'isalpha', 'isascii', 'isdecimal', 'isdigit', 'isidentifier', \n",
        "#  'islower', 'isnumeric', 'isprintable', 'isspace', 'istitle', 'isupper', 'join', 'ljust', 'lower', \n",
        "#  'lstrip', 'maketrans', 'partition','replace', 'rfind', 'rindex', 'rjust', 'rpartition', \n",
        "#  'rsplit', 'rstrip', 'split', 'splitlines', 'startswith', 'strip', 'swapcase', 'title', 'translate', 'upper', 'zfill']\n",
        "\n",
        "\n"
      ],
      "metadata": {
        "id": "4hm69wfLHUSB"
      },
      "execution_count": null,
      "outputs": []
    }
  ]
}